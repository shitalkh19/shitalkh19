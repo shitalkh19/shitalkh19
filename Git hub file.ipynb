{
 "cells": [
  {
   "cell_type": "code",
   "execution_count": 4,
   "id": "a590f7a7",
   "metadata": {},
   "outputs": [
    {
     "name": "stdout",
     "output_type": "stream",
     "text": [
      "['Apple', 'Banana', 'Cherry', 'Orange', 'Kiwi', 'Papaya', 'Grape', 'Pineapple']\n",
      "('Apple', 'Banana', 'Cherry', 'Orange', 'Kiwi', 'Papaya', 'Grape', 'Pineapple')\n",
      "('Apple', 'Banana', 'Cherry', 'Orange', 'Kiwi', 'Papaya', 'Grape', 'Pineapple', 'Berry', 'Cranberry', 'Melon', 'Strawberry')\n"
     ]
    }
   ],
   "source": [
    "# Join the given list and tuple\n",
    "\n",
    "mylist = ['Apple', 'Banana', 'Cherry', 'Orange', 'Kiwi', 'Papaya', 'Grape', 'Pineapple']\n",
    "\n",
    "mytuple = ('Berry', 'Cranberry', 'Melon', 'Strawberry')\n",
    "\n",
    "print(mylist)\n",
    "# Convert list to tuple\n",
    "\n",
    "list_to_tuple = tuple(mylist)\n",
    "\n",
    "print(list_to_tuple)\n",
    "\n",
    "res1 = list_to_tuple + mytuple\n",
    "\n",
    "print(res1)"
   ]
  },
  {
   "cell_type": "code",
   "execution_count": 5,
   "id": "8e20e84e",
   "metadata": {},
   "outputs": [
    {
     "name": "stdout",
     "output_type": "stream",
     "text": [
      "Select operation:\n",
      "1. Add\n",
      "2. Subtract\n",
      "3. Multiply\n",
      "4. Divide\n",
      "Enter choice (1/2/3/4): 3\n",
      "Enter first number: 25\n",
      "Enter second number: 22\n",
      "25.0 * 22.0 = 550.0\n"
     ]
    }
   ],
   "source": [
    "# calculator program\n",
    "\n",
    "def add(x, y):\n",
    "    return x + y\n",
    "\n",
    "def subtract(x, y):\n",
    "    return x - y\n",
    "\n",
    "def multiply(x, y):\n",
    "    return x * y\n",
    "\n",
    "def divide(x, y):\n",
    "    if y == 0:\n",
    "        return \"Cannot divide by zero\"\n",
    "    return x / y\n",
    "\n",
    "print(\"Select operation:\")\n",
    "print(\"1. Add\")\n",
    "print(\"2. Subtract\")\n",
    "print(\"3. Multiply\")\n",
    "print(\"4. Divide\")\n",
    "\n",
    "choice = input(\"Enter choice (1/2/3/4): \")\n",
    "\n",
    "num1 = float(input(\"Enter first number: \"))\n",
    "num2 = float(input(\"Enter second number: \"))\n",
    "\n",
    "if choice == '1':\n",
    "    print(num1, \"+\", num2, \"=\", add(num1, num2))\n",
    "elif choice == '2':\n",
    "    print(num1, \"-\", num2, \"=\", subtract(num1, num2))\n",
    "elif choice == '3':\n",
    "    print(num1, \"*\", num2, \"=\", multiply(num1, num2))\n",
    "elif choice == '4':\n",
    "    print(num1, \"/\", num2, \"=\", divide(num1, num2))\n",
    "else:\n",
    "    print(\"Invalid input\")\n"
   ]
  },
  {
   "cell_type": "code",
   "execution_count": null,
   "id": "0ce1f133",
   "metadata": {},
   "outputs": [],
   "source": []
  }
 ],
 "metadata": {
  "kernelspec": {
   "display_name": "Python 3 (ipykernel)",
   "language": "python",
   "name": "python3"
  },
  "language_info": {
   "codemirror_mode": {
    "name": "ipython",
    "version": 3
   },
   "file_extension": ".py",
   "mimetype": "text/x-python",
   "name": "python",
   "nbconvert_exporter": "python",
   "pygments_lexer": "ipython3",
   "version": "3.10.9"
  }
 },
 "nbformat": 4,
 "nbformat_minor": 5
}
